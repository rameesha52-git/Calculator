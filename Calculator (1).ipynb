{
 "cells": [
  {
   "cell_type": "code",
   "execution_count": 7,
   "id": "8a659231-32e4-44bb-845b-d4d87bbe8e11",
   "metadata": {},
   "outputs": [
    {
     "name": "stdout",
     "output_type": "stream",
     "text": [
      "Select Operations\n",
      "1. Addition\n",
      "2. Subtraction\n",
      "3. Multiplication\n",
      "4. Division\n",
      "\n"
     ]
    },
    {
     "name": "stdin",
     "output_type": "stream",
     "text": [
      "Enter choice of operation 1/2/3/4:  1\n",
      "Enter the First Number:  10\n",
      "Enter the Second Number:  10\n"
     ]
    },
    {
     "name": "stdout",
     "output_type": "stream",
     "text": [
      "10.0 + 10.0 = 20.0\n"
     ]
    }
   ],
   "source": [
    "# Calculator application\n",
    "# Define Operators or Functions: Addition, Subtraction, Multiplication, and Division\n",
    "\n",
    "def addition(n1, n2):\n",
    "    return n1 + n2\n",
    "def subtraction(n1, n2):\n",
    "    return n1 - n2\n",
    "\n",
    "def multiplication(n1, n2):\n",
    "    return n1 * n2\n",
    "\n",
    "def division(n1, n2):\n",
    "    return n1 / n2\n",
    "    \n",
    "print(\"Select Operations\")\n",
    "print(\n",
    "    \"1. Addition\\n\"\\\n",
    "    \"2. Subtraction\\n\"\\\n",
    "    \"3. Multiplication\\n\"\\\n",
    "    \"4. Division\\n\")\n",
    "\n",
    "# Giving the option to the user to choose the operation\n",
    "\n",
    "operation = int(input(\"Enter choice of operation 1/2/3/4: \"))\n",
    "\n",
    "\n",
    "#Taking Input from the Users\n",
    "\n",
    "n1 = float(input(\"Enter the First Number: \"))\n",
    "n2 = float(input(\"Enter the Second Number: \"))\n",
    "\n",
    "\n",
    "# Apply Conditional Statements: To make operation as-per-user choices\n",
    "\n",
    "if operation == 1:\n",
    "    print (n1, \"+\", n2, \"=\", addition(n1, n2))\n",
    "\n",
    "elif operation == 2:\n",
    "    print (n1, \"-\", n2, \"=\", subtraction(n1, n2)) \n",
    "\n",
    "elif operation == 3:\n",
    "    print (n1, \"*\", n2, \"=\", multiplication(n1, n2)) \n",
    "    \n",
    "elif operation == 4:\n",
    "    print (n1, \"/\", n2, \"=\", division(n1, n2)) \n",
    "    \n",
    "else:\n",
    "    print(\"Invalid Input\")\n",
    "\n",
    "\n",
    "\n",
    "\n",
    "    "
   ]
  },
  {
   "cell_type": "code",
   "execution_count": 7,
   "id": "f8456164-1ff3-4d3e-9243-37a3a1c16387",
   "metadata": {},
   "outputs": [
    {
     "name": "stdout",
     "output_type": "stream",
     "text": [
      "Select Operations\n",
      "1. Addition\n",
      "2. Subtraction\n",
      "3. Multiplication\n",
      "4. Division\n",
      "\n"
     ]
    },
    {
     "name": "stdin",
     "output_type": "stream",
     "text": [
      "Enter choice of operation 1/2/3/4:  1\n",
      "Enter the First Number:  10\n",
      "Enter the Second Number:  10\n"
     ]
    },
    {
     "name": "stdout",
     "output_type": "stream",
     "text": [
      "10.0 + 10.0 = 20.0\n"
     ]
    }
   ],
   "source": [
    "# Calculator application\n",
    "# Define Operators or Functions: Addition, Subtraction, Multiplication, and Division\n",
    "\n",
    "def addition(n1, n2):\n",
    "    return n1 + n2\n",
    "def subtraction(n1, n2):\n",
    "    return n1 - n2\n",
    "\n",
    "def multiplication(n1, n2):\n",
    "    return n1 * n2\n",
    "\n",
    "def division(n1, n2):\n",
    "    return n1 / n2\n",
    "    \n",
    "print(\"Select Operations\")\n",
    "print(\n",
    "    \"1. Addition\\n\"\\\n",
    "    \"2. Subtraction\\n\"\\\n",
    "    \"3. Multiplication\\n\"\\\n",
    "    \"4. Division\\n\")\n",
    "\n",
    "# Giving the option to the user to choose the operation\n",
    "\n",
    "operation = int(input(\"Enter choice of operation 1/2/3/4: \"))\n",
    "\n",
    "\n",
    "#Taking Input from the Users\n",
    "\n",
    "n1 = float(input(\"Enter the First Number: \"))\n",
    "n2 = float(input(\"Enter the Second Number: \"))\n",
    "\n",
    "\n",
    "# Apply Conditional Statements: To make operation as-per-user choices\n",
    "\n",
    "if operation == 1:\n",
    "    print (n1, \"+\", n2, \"=\", addition(n1, n2))\n",
    "\n",
    "elif operation == 2:\n",
    "    print (n1, \"-\", n2, \"=\", subtraction(n1, n2)) \n",
    "\n",
    "elif operation == 3:\n",
    "    print (n1, \"*\", n2, \"=\", multiplication(n1, n2)) \n",
    "    \n",
    "elif operation == 4:\n",
    "    print (n1, \"/\", n2, \"=\", division(n1, n2)) \n",
    "    \n",
    "else:\n",
    "    print(\"Invalid Input\")\n",
    "\n",
    "\n",
    "\n",
    "\n",
    "    "
   ]
  },
  {
   "cell_type": "code",
   "execution_count": null,
   "id": "320639fb-ca7c-45cd-9209-317e757d13b3",
   "metadata": {},
   "outputs": [],
   "source": []
  }
 ],
 "metadata": {
  "kernelspec": {
   "display_name": "Python 3 (ipykernel)",
   "language": "python",
   "name": "python3"
  },
  "language_info": {
   "codemirror_mode": {
    "name": "ipython",
    "version": 3
   },
   "file_extension": ".py",
   "mimetype": "text/x-python",
   "name": "python",
   "nbconvert_exporter": "python",
   "pygments_lexer": "ipython3",
   "version": "3.12.1"
  }
 },
 "nbformat": 4,
 "nbformat_minor": 5
}
